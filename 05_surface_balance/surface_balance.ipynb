{
 "cells": [
  {
   "cell_type": "code",
   "execution_count": 2,
   "metadata": {},
   "outputs": [
    {
     "name": "stderr",
     "output_type": "stream",
     "text": [
      "/Users/uec/codes/anaconda/2/5.1.0/base/lib/python2.7/site-packages/h5py/__init__.py:36: FutureWarning: Conversion of the second argument of issubdtype from `float` to `np.floating` is deprecated. In future, it will be treated as `np.float64 == np.dtype(float).type`.\n",
      "  from ._conv import register_converters as _register_converters\n"
     ]
    }
   ],
   "source": [
    "import numpy as np\n",
    "from matplotlib import pyplot as plt\n",
    "import parse_ats"
   ]
  },
  {
   "cell_type": "code",
   "execution_count": 3,
   "metadata": {},
   "outputs": [],
   "source": [
    "k,t,ds = parse_ats.readATS('surface_balance-priestly_taylor.regression','visdump_surface_data.h5')\n",
    "k,t,d = parse_ats.readATS('surface_balance-priestly_taylor.regression')\n",
    "\n",
    "pot_et_pt = parse_ats.getSurfaceData(k,ds,'surface-potential_transpiration_mps')\n",
    "tot_et_pt = parse_ats.getSurfaceData(k,ds,'surface-total_transpiration')\n",
    "wcs_pt = parse_ats.getSurfaceData(k,ds,'surface-water_content')/55000.\n",
    "wc_pt = np.array([d['water_content.cell.0'][key][:].sum() for key in k])/55000.\n",
    "pd_pt = parse_ats.getSurfaceData(k,ds,'surface-ponded_depth')\n",
    "\n",
    "\n",
    "d.close()\n",
    "ds.close()"
   ]
  },
  {
   "cell_type": "code",
   "execution_count": 47,
   "metadata": {},
   "outputs": [],
   "source": [
    "k,t,ds = parse_ats.readATS('surface_balance-lingzhang.regression','visdump_surface_data.h5')\n",
    "k,t,d = parse_ats.readATS('surface_balance-lingzhang.regression')\n",
    "\n",
    "#for key in d.keys():\n",
    "#    print(key)\n",
    "\n",
    "tot_et_lz = parse_ats.getSurfaceData(k,ds,'surface-evaporative_flux')\n",
    "wcs_lz = parse_ats.getSurfaceData(k,ds,'surface-water_content')/55000.\n",
    "pd_lz = parse_ats.getSurfaceData(k,ds,'surface-ponded_depth')\n",
    "wc_lz = np.array([d['water_content.cell.0'][key][:].sum() for key in k])/55000.\n",
    "surf_ms_lz = parse_ats.getSurfaceData(k,ds,'surface-mass_source')\n",
    "T_lz = parse_ats.getSurfaceData(k,ds,'surface-temperature')\n",
    "\n",
    "\n",
    "d.close()\n",
    "ds.close()"
   ]
  },
  {
   "cell_type": "code",
   "execution_count": 40,
   "metadata": {},
   "outputs": [],
   "source": [
    "k,t,ds = parse_ats.readATS('surface_balance-lingzhang_subgrid.regression','visdump_surface_data.h5')\n",
    "k,t,d = parse_ats.readATS('surface_balance-lingzhang_subgrid.regression')\n",
    "\n",
    "tot_et_lzs = parse_ats.getSurfaceData(k,ds,'surface-evaporative_flux')\n",
    "wcs_lzs = parse_ats.getSurfaceData(k,ds,'surface-water_content')/55000.\n",
    "wc_lzs = np.array([d['water_content.cell.0'][key][:].sum() for key in k])/55000.\n",
    "pd_lzs = parse_ats.getSurfaceData(k,ds,'surface-ponded_depth')\n",
    "vpd_lzs = parse_ats.getSurfaceData(k,ds,'surface-volumetric_ponded_depth')\n",
    "surf_ms_lzs = parse_ats.getSurfaceData(k,ds,'surface-mass_source')\n",
    "\n",
    "\n",
    "#d.close()\n",
    "#ds.close()"
   ]
  },
  {
   "cell_type": "code",
   "execution_count": 26,
   "metadata": {},
   "outputs": [
    {
     "name": "stdout",
     "output_type": "stream",
     "text": [
      "surface-air_temperature.cell.0\n",
      "surface-albedo.cell.0\n",
      "surface-cell_volume.cell.0\n",
      "surface-elevation.cell.0\n",
      "surface-evaporative_flux.cell.0\n",
      "surface-excluded_volume.cell.0\n",
      "surface-fractional_areas.cell.0\n",
      "surface-fractional_areas.cell.1\n",
      "surface-fractional_areas.cell.2\n",
      "surface-incoming_longwave_radiation.cell.0\n",
      "surface-incoming_shortwave_radiation.cell.0\n",
      "surface-mass_density_liquid.cell.0\n",
      "surface-mass_source.cell.0\n",
      "surface-microtopographic_relief.cell.0\n",
      "surface-molar_density_liquid.cell.0\n",
      "surface-overland_conductivity.cell.0\n",
      "surface-ponded_depth.cell.0\n",
      "surface-ponded_depth_bar.cell.0\n",
      "surface-precipitation_rain.cell.0\n",
      "surface-pres_elev.cell.0\n",
      "surface-pressure.cell.0\n",
      "surface-qE_conducted.cell.0\n",
      "surface-qE_latent_heat.cell.0\n",
      "surface-qE_lw_out.cell.0\n",
      "surface-qE_sensible_heat.cell.0\n",
      "surface-qE_snowmelt.cell.0\n",
      "surface-relative_humidity.cell.0\n",
      "surface-relative_permeability.cell.0\n",
      "surface-slope_magnitude.cell.0\n",
      "surface-snowmelt.cell.0\n",
      "surface-source_molar_density.cell.0\n",
      "surface-subgrid_albedos.cell.0\n",
      "surface-subgrid_albedos.cell.1\n",
      "surface-subgrid_albedos.cell.2\n",
      "surface-subgrid_emissivities.cell.0\n",
      "surface-subgrid_emissivities.cell.1\n",
      "surface-subgrid_emissivities.cell.2\n",
      "surface-surface_subsurface_flux.cell.0\n",
      "surface-temperature.cell.0\n",
      "surface-total_energy_source.cell.0\n",
      "surface-unfrozen_fraction.cell.0\n",
      "surface-velocity.cell.0\n",
      "surface-velocity.cell.1\n",
      "surface-velocity.cell.2\n",
      "surface-volumetric_ponded_depth.cell.0\n",
      "surface-water_content.cell.0\n",
      "surface-water_content_bar.cell.0\n",
      "surface-wind_speed.cell.0\n"
     ]
    }
   ],
   "source": [
    "for key in ds.keys():\n",
    "    print(key)"
   ]
  },
  {
   "cell_type": "code",
   "execution_count": 31,
   "metadata": {},
   "outputs": [],
   "source": [
    "af = parse_ats.getSurfaceData(k,ds,'surface-fractional_areas.cell.0')\n"
   ]
  },
  {
   "cell_type": "code",
   "execution_count": 29,
   "metadata": {},
   "outputs": [],
   "source": [
    "d.close()\n",
    "ds.close()"
   ]
  },
  {
   "cell_type": "code",
   "execution_count": 43,
   "metadata": {
    "scrolled": true
   },
   "outputs": [],
   "source": [
    "fig = plt.figure(figsize=(8,8))\n",
    "axs = fig.subplots(3,1, sharex=True)\n",
    "axs[0].plot(t*365, np.zeros_like(t), 'k--', label='zero indicates saturated soil, no ponded water')\n",
    "axs[0].plot(t*365, wcs_pt + wc_pt - wc_pt[1], 'b', label='relative water [m] Priestly-Taylor')\n",
    "axs[0].plot(t*365, wcs_lz + wc_lz - wc_lz[1], 'c', label='relative water [m] Ling-Zhang')\n",
    "axs[0].plot(t*365, wcs_lzs + wc_lzs - wc_lzs[1], 'g', label='relative water [m] Ling-Zhang+subgrid')\n",
    "axs[1].plot(t*365, tot_et_pt * 86400, 'b', label='total ET Priestly-Taylor')\n",
    "axs[1].plot(t*365, tot_et_lz * 86400, 'c', label='total ET Ling-Zhang')\n",
    "axs[1].plot(t[2:]*365, -surf_ms_lz[2:] * 86400, 'c--', label='surface ET Ling-Zhang')\n",
    "\n",
    "axs[1].plot(t*365, tot_et_lzs * 86400, 'g', label='total ET Ling-Zhang+subgrid')\n",
    "axs[1].plot(t[2:]*365, -surf_ms_lzs[2:] * 86400, 'g--', label='surface ET Ling-Zhang')\n",
    "\n",
    "axs[1].set_xlabel('time [days]')\n",
    "axs[0].set_ylabel('total water content [m]')\n",
    "axs[1].set_ylabel('sinks, [m/day]')\n",
    "axs[0].legend()\n",
    "axs[1].legend()\n",
    "\n",
    "axs[2].plot(t*365, af, 'brown')\n",
    "axs[2].set_ylabel('area fraction of bare ground [-]')\n",
    "axs[2].set_ylim(-0.05,1.05)\n",
    "plt.show()"
   ]
  },
  {
   "cell_type": "code",
   "execution_count": 116,
   "metadata": {},
   "outputs": [],
   "source": [
    "k2,t2,ds = parse_ats.readATS('surface_balance-lingzhang_T_subgrid.regression','visdump_surface_data.h5')\n",
    "k2,t2,d = parse_ats.readATS('surface_balance-lingzhang_T_subgrid.regression')\n",
    "\n",
    "#for key in d.keys():\n",
    "#    print(key)\n",
    "\n",
    "tot_et_lzTs = parse_ats.getSurfaceData(k2,ds,'surface-evaporative_flux')\n",
    "wcs_lzTs = parse_ats.getSurfaceData(k2,ds,'surface-water_content')/55000.\n",
    "pd_lzTs = parse_ats.getSurfaceData(k2,ds,'surface-ponded_depth')\n",
    "wc_lzTs = np.array([d['water_content.cell.0'][key][:].sum() for key in k2])/55000.\n",
    "surf_ms_lzTs = parse_ats.getSurfaceData(k2,ds,'surface-mass_source')\n",
    "T_lzTs = parse_ats.getSurfaceData(k2,ds,'surface-temperature')\n",
    "afb = parse_ats.getSurfaceData(k2,ds,'surface-fractional_areas.cell.0')\n",
    "afw = parse_ats.getSurfaceData(k2,ds,'surface-fractional_areas.cell.1')\n",
    "afs = parse_ats.getSurfaceData(k2,ds,'surface-fractional_areas.cell.2')\n",
    "\n",
    "d.close()\n",
    "ds.close()"
   ]
  },
  {
   "cell_type": "code",
   "execution_count": 117,
   "metadata": {},
   "outputs": [],
   "source": [
    "k,t,ds = parse_ats.readATS('surface_balance-lingzhang_T.regression','visdump_surface_data.h5')\n",
    "k,t,d = parse_ats.readATS('surface_balance-lingzhang_T.regression')\n",
    "\n",
    "#for key in d.keys():\n",
    "#    print(key)\n",
    "\n",
    "tot_et_lzT = parse_ats.getSurfaceData(k,ds,'surface-evaporative_flux')\n",
    "wcs_lzT = parse_ats.getSurfaceData(k,ds,'surface-water_content')/55000.\n",
    "pd_lzT = parse_ats.getSurfaceData(k,ds,'surface-ponded_depth')\n",
    "wc_lzT = np.array([d['water_content.cell.0'][key][:].sum() for key in k])/55000.\n",
    "surf_ms_lzT = parse_ats.getSurfaceData(k,ds,'surface-mass_source')\n",
    "T_lzT = parse_ats.getSurfaceData(k,ds,'surface-temperature')\n",
    "\n",
    "\n",
    "\n",
    "d.close()\n",
    "ds.close()"
   ]
  },
  {
   "cell_type": "code",
   "execution_count": 118,
   "metadata": {},
   "outputs": [],
   "source": [
    "fig = plt.figure(figsize=(8,8))\n",
    "axs = fig.subplots(4,1, sharex=True)\n",
    "\n",
    "bd = np.where(pd_lzT <= 0.)[0][1]\n",
    "\n",
    "axs[0].plot(t*365, np.zeros_like(t), 'k--', label='zero indicates saturated soil, no ponded water')\n",
    "axs[0].plot([bd,bd], [-.2,.18], 'k--')\n",
    "axs[1].plot([bd,bd], [0,0.008], 'k--')\n",
    "axs[2].plot([bd,bd], [282,285], 'k--')\n",
    "\n",
    "#axs[0].plot(t*365, wcs_lz + wc_lz - wc_lz[1], 'b', label='relative water [m] LZ')\n",
    "#axs[1].plot(t*365, tot_et_lz * 86400, 'b', label='total ET LZ')\n",
    "#axs[1].plot(t[2:]*365, -surf_ms_lz[2:] * 86400, 'b--', label='surface ET LZ')\n",
    "#axs[2].plot(t*365, T_lz, 'brown', label='temperature [K] LZ')\n",
    "\n",
    "axs[0].plot(t*365, wcs_lzT + wc_lzT - wc_lzT[1], 'c', label='relative water [m] LZ+T')\n",
    "axs[0].plot(t*365, wcs_lzT, 'c--', label='ponded water [m] LZ+T')\n",
    "axs[1].plot(t*365, tot_et_lzT * 86400, 'c', label='total ET LZ+T')\n",
    "axs[1].plot(t[2:]*365, -surf_ms_lzT[2:] * 86400, 'c--', label='surface ET LZ+T')\n",
    "axs[2].plot(t*365, T_lzT, 'm', label='temperature [K] LZ+T')\n",
    "\n",
    "axs[0].plot(t2*365, wcs_lzTs + wc_lzTs - wc_lzTs[1], 'g', label='relative water [m] LZ+T sub')\n",
    "axs[0].plot(t2*365, wcs_lzTs, 'g--', label='ponded water [m] LZ+T sub')\n",
    "axs[1].plot(t2*365, tot_et_lzTs * 86400, 'g', label='total ET LZ+T sub')\n",
    "axs[1].plot(t2[2:]*365, -surf_ms_lzTs[2:] * 86400, 'g--', label='surface ET LZ+T sub')\n",
    "axs[2].plot(t2*365, T_lzTs, 'orange', label='temperature [K] LZ+T')\n",
    "\n",
    "axs[3].plot(t2*365, afb, 'brown', label='bare ground')\n",
    "axs[3].plot(t2*365, afw, 'b', label='water')\n",
    "axs[3].plot(t2*365, afs, 'c', label='snow')\n",
    "\n",
    "axs[3].set_ylabel('area fraction')\n",
    "axs[3].set_ylim(-0.05,1.05)\n",
    "\n",
    "axs[1].set_xlabel('time [days]')\n",
    "axs[0].set_ylabel('total water content [m]')\n",
    "axs[1].set_ylabel('sinks, [m/day]')\n",
    "axs[0].legend()\n",
    "axs[1].legend()\n",
    "\n",
    "\n",
    "axs[2].set_ylabel('soil skin temperature [K]')\n",
    "plt.show()"
   ]
  },
  {
   "cell_type": "code",
   "execution_count": null,
   "metadata": {},
   "outputs": [],
   "source": []
  }
 ],
 "metadata": {
  "kernelspec": {
   "display_name": "Python [conda env:base]",
   "language": "python",
   "name": "conda-env-base-py"
  },
  "language_info": {
   "codemirror_mode": {
    "name": "ipython",
    "version": 2
   },
   "file_extension": ".py",
   "mimetype": "text/x-python",
   "name": "python",
   "nbconvert_exporter": "python",
   "pygments_lexer": "ipython2",
   "version": "2.7.14"
  }
 },
 "nbformat": 4,
 "nbformat_minor": 2
}
